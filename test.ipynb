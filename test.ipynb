{
 "cells": [
  {
   "cell_type": "code",
   "execution_count": null,
   "id": "e72c394f",
   "metadata": {},
   "outputs": [],
   "source": [
    "import random\n",
    "\n",
    "\n",
    "def monty_hall_game(switch_choice: bool) -> bool:\n",
    "    doors = [\"goat\", \"goat\", \"car\"]\n",
    "\n",
    "    random.shuffle(doors)\n",
    "\n",
    "    initial_choice = random.choice(range(len(doors)))\n",
    "\n",
    "    doors_revealed = [i for i in range(len(doors)) if i != initial_choice and doors[i] != \"car\"]\n",
    "    door_revelead = random.choice(doors_revealed)\n",
    "\n",
    "    if switch_choice :\n",
    "        finall_choice = [i for i in range(len(doors)) if i != door_revelead and i != initial_choice][0]\n",
    "    else:\n",
    "        finall_choice = initial_choice\n",
    "    \n",
    "    return doors[finall_choice] == \"car\""
   ]
  },
  {
   "cell_type": "code",
   "execution_count": null,
   "id": "3aea469a",
   "metadata": {},
   "outputs": [],
   "source": [
    "# def simulate_game(num_games):\n",
    "#     num_wins_without_switchig = sum([ monty_hall_game(False) for _ in range(num_games)])\n",
    "#     num_wins_switchig = sum([monty_hall_game(True) for _ in range(num_games)])\n",
    "#     return num_wins_without_switchig / num_games, num_wins_switchig / num_games"
   ]
  },
  {
   "cell_type": "code",
   "execution_count": null,
   "id": "0807b1c9",
   "metadata": {},
   "outputs": [
    {
     "data": {
      "text/plain": [
       "(0.32, 0.638)"
      ]
     },
     "execution_count": 315,
     "metadata": {},
     "output_type": "execute_result"
    }
   ],
   "source": [
    "# simulate_game(1000)"
   ]
  },
  {
   "cell_type": "code",
   "execution_count": 28,
   "id": "254dccb7",
   "metadata": {},
   "outputs": [],
   "source": [
    "def monty_hall_game(switch_choice):\n",
    "    pass"
   ]
  },
  {
   "cell_type": "code",
   "execution_count": 19,
   "id": "b4bc0cff",
   "metadata": {},
   "outputs": [],
   "source": [
    "switch_choice = True"
   ]
  },
  {
   "cell_type": "code",
   "execution_count": 18,
   "id": "35fd1b74",
   "metadata": {},
   "outputs": [],
   "source": [
    "doors = [\"car\", \"goat\", \"goat\"]"
   ]
  },
  {
   "cell_type": "code",
   "execution_count": 20,
   "id": "b624bbd7",
   "metadata": {},
   "outputs": [
    {
     "data": {
      "text/plain": [
       "['goat', 'goat', 'car']"
      ]
     },
     "execution_count": 20,
     "metadata": {},
     "output_type": "execute_result"
    }
   ],
   "source": [
    "import random\n",
    "random.shuffle(doors)\n",
    "doors"
   ]
  },
  {
   "cell_type": "code",
   "execution_count": 22,
   "id": "4d21b6a2",
   "metadata": {},
   "outputs": [
    {
     "data": {
      "text/plain": [
       "2"
      ]
     },
     "execution_count": 22,
     "metadata": {},
     "output_type": "execute_result"
    }
   ],
   "source": [
    "initial_choice = random.choice(range(len(doors)))\n",
    "initial_choice"
   ]
  },
  {
   "cell_type": "code",
   "execution_count": 23,
   "id": "1a964e55",
   "metadata": {},
   "outputs": [
    {
     "data": {
      "text/plain": [
       "[0, 1]"
      ]
     },
     "execution_count": 23,
     "metadata": {},
     "output_type": "execute_result"
    }
   ],
   "source": [
    "doors_revealed = [i for i in range(len(doors)) if i != initial_choice and doors[i] != \"car\"]\n",
    "doors_revealed"
   ]
  },
  {
   "cell_type": "code",
   "execution_count": 24,
   "id": "9eb86834",
   "metadata": {},
   "outputs": [
    {
     "data": {
      "text/plain": [
       "1"
      ]
     },
     "execution_count": 24,
     "metadata": {},
     "output_type": "execute_result"
    }
   ],
   "source": [
    "door_revealed = random.choice(doors_revealed)\n",
    "door_revealed"
   ]
  },
  {
   "cell_type": "code",
   "execution_count": 52,
   "id": "8d462e2f",
   "metadata": {},
   "outputs": [
    {
     "data": {
      "text/plain": [
       "False"
      ]
     },
     "execution_count": 52,
     "metadata": {},
     "output_type": "execute_result"
    }
   ],
   "source": [
    "def m(switch_choice): \n",
    "    if switch_choice :\n",
    "        finall_choice = [i for i in range(len(doors)) if i != door_revealed and i != initial_choice][0]\n",
    "    else :\n",
    "        finall_choice = initial_choice\n",
    "\n",
    "    return finall_choice == \"car\"\n",
    "\n",
    "\n",
    "m(False)"
   ]
  },
  {
   "cell_type": "code",
   "execution_count": 1,
   "id": "3e5717fd",
   "metadata": {},
   "outputs": [],
   "source": [
    "import random\n",
    "\n",
    "\n",
    "def monty_hall_game(switch_choice):\n",
    "    doors = [\"car\", \"goat\", \"goat\"]\n",
    "    random.shuffle(doors)\n",
    "    initial_choice = random.choice(range(len(doors)))\n",
    "    doors_revealed = [i for i in range(len(doors)) if i != initial_choice and doors[i] != \"car\"]\n",
    "    door_revealed = random.choice(doors_revealed)\n",
    "    if switch_choice :\n",
    "        finall_choice = [i for i in range(len(doors)) if i != door_revealed and i != initial_choice][0]\n",
    "    else :\n",
    "        finall_choice = initial_choice\n",
    "    \n",
    "    return doors[finall_choice] == \"car\""
   ]
  },
  {
   "cell_type": "code",
   "execution_count": 8,
   "id": "e0e0b645",
   "metadata": {},
   "outputs": [
    {
     "data": {
      "text/plain": [
       "True"
      ]
     },
     "execution_count": 8,
     "metadata": {},
     "output_type": "execute_result"
    }
   ],
   "source": [
    "monty_hall_game(False)"
   ]
  },
  {
   "cell_type": "code",
   "execution_count": 9,
   "id": "436d0405",
   "metadata": {},
   "outputs": [],
   "source": [
    "def simulate_game(number):\n",
    "    simulate_game_without_switch = sum([monty_hall_game(False) for _ in range(number)])\n",
    "    simulate_game_with_switch = sum([monty_hall_game(True) for _ in range(number)])\n",
    "    return simulate_game_without_switch / number, simulate_game_with_switch / number\n"
   ]
  },
  {
   "cell_type": "code",
   "execution_count": 10,
   "id": "abbe6aa5",
   "metadata": {},
   "outputs": [
    {
     "data": {
      "text/plain": [
       "(0.335, 0.659)"
      ]
     },
     "execution_count": 10,
     "metadata": {},
     "output_type": "execute_result"
    }
   ],
   "source": [
    "simulate_game(1000)\n"
   ]
  }
 ],
 "metadata": {
  "kernelspec": {
   "display_name": "tmp",
   "language": "python",
   "name": "python3"
  },
  "language_info": {
   "codemirror_mode": {
    "name": "ipython",
    "version": 3
   },
   "file_extension": ".py",
   "mimetype": "text/x-python",
   "name": "python",
   "nbconvert_exporter": "python",
   "pygments_lexer": "ipython3",
   "version": "3.10.18"
  }
 },
 "nbformat": 4,
 "nbformat_minor": 5
}
